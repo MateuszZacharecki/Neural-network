{
 "cells": [
  {
   "cell_type": "code",
   "execution_count": 1,
   "id": "81913b8a",
   "metadata": {},
   "outputs": [],
   "source": [
    "#Downloading necessary libraries\n",
    "import numpy as np\n",
    "import pandas as pd\n",
    "import sklearn\n",
    "from sklearn.preprocessing import MinMaxScaler\n",
    "import tensorflow as tf\n",
    "#from tensorflow.keras.models import Sequential\n",
    "#from tensorflow.keras.layers import Dense\n",
    "from tensorflow import keras\n",
    "from tensorflow.keras import layers\n",
    "from sklearn.model_selection import train_test_split\n",
    "from sklearn import metrics\n",
    "from sklearn.metrics import roc_auc_score"
   ]
  },
  {
   "cell_type": "code",
   "execution_count": 2,
   "id": "8a4d5645",
   "metadata": {
    "scrolled": true
   },
   "outputs": [],
   "source": [
    "#Loading training data from file\n",
    "Trening = pd.read_csv(\"sc_project_training_data.csv\")"
   ]
  },
  {
   "cell_type": "code",
   "execution_count": 3,
   "id": "20fad70b",
   "metadata": {},
   "outputs": [],
   "source": [
    "#Loading test data from file\n",
    "Test = pd.read_csv(\"sc_project_test_data.csv\")"
   ]
  },
  {
   "cell_type": "code",
   "execution_count": 4,
   "id": "6698fee1",
   "metadata": {},
   "outputs": [],
   "source": [
    "#Swaping data from column GameType to numeric\n",
    "#New data - integers from 1 to 6 inclusive - saving in new column\n",
    "df = pd.concat([Trening['GameType'], Test['GameType']])\n",
    "layer = tf.keras.layers.StringLookup()\n",
    "layer.adapt(df)\n",
    "Trening['TypeofGame'] = layer(Trening['GameType'])\n",
    "Test['TypeofGame'] = layer(Test['GameType'])"
   ]
  },
  {
   "cell_type": "code",
   "execution_count": 5,
   "id": "4ecedc15",
   "metadata": {},
   "outputs": [],
   "source": [
    "#Swaping data from column Winner to numeric\n",
    "Trening['Wynik'] = 0\n",
    "Trening.loc[Trening['Winner'] == 'A', 'Wynik'] = 1"
   ]
  },
  {
   "cell_type": "code",
   "execution_count": 6,
   "id": "011f2289",
   "metadata": {},
   "outputs": [],
   "source": [
    "#Deleting duplicated data and separating results from parameters in training set\n",
    "#Receiving 3 sets, all with numeric data\n",
    "#First one with training parameters\n",
    "#Second one with information who won for training parameters\n",
    "#Third one with test parameters\n",
    "Test = Test.drop(columns = ['GameType'])\n",
    "Wynik = Trening['Wynik']\n",
    "Trening = Trening.drop(columns = ['GameID', 'Winner', 'GameType', 'Wynik'])"
   ]
  },
  {
   "cell_type": "code",
   "execution_count": 7,
   "id": "980ae7b4",
   "metadata": {},
   "outputs": [],
   "source": [
    "#Normalizing data\n",
    "scaler = MinMaxScaler()\n",
    "Trening_skalowany = scaler.fit_transform(Trening)\n",
    "Test_skalowany = scaler.fit_transform(Test)"
   ]
  },
  {
   "cell_type": "code",
   "execution_count": 8,
   "id": "8bbde950",
   "metadata": {},
   "outputs": [],
   "source": [
    "#Defining model\n",
    "#model = Sequential()\n",
    "#model.add(Dense(32, input_shape=(158,), activation='relu'))\n",
    "#model.add(Dense(32, activation='relu'))\n",
    "#model.add(Dense(1, activation='sigmoid'))\n",
    "model = keras.Sequential()\n",
    "model.add(layers.Dense(32, input_shape=(158,), activation='relu'))\n",
    "model.add(layers.Dense(32, activation='relu'))\n",
    "model.add(layers.Dense(1, activation='sigmoid'))\n",
    "\n",
    "#The model is neural network made up of input layer, two hidden layers and output layer\n",
    "#Size of input layer is 158 - it's the number of parameters, which result depends on\n",
    "#Both hidden layers are the same - they are made up of 32 neuron each\n",
    "#The function of activation is relu\n",
    "#In the end there is input layer with function of activation sigmoid"
   ]
  },
  {
   "cell_type": "code",
   "execution_count": 9,
   "id": "5ff2741c",
   "metadata": {},
   "outputs": [],
   "source": [
    "#Compiling model\n",
    "#As the function of loss we take binary crossentropy\n",
    "#Optimizing with stochastic gradient descent\n",
    "model.compile(loss='binary_crossentropy', optimizer='sgd', metrics=['AUC'])"
   ]
  },
  {
   "cell_type": "code",
   "execution_count": null,
   "id": "34af0808",
   "metadata": {},
   "outputs": [
    {
     "name": "stdout",
     "output_type": "stream",
     "text": [
      "Epoch 1/100\n",
      "1074/1074 [==============================] - 6s 4ms/step - loss: 0.6659 - auc: 0.5679\n",
      "Epoch 2/100\n",
      "1074/1074 [==============================] - 8s 7ms/step - loss: 0.6496 - auc: 0.6439\n",
      "Epoch 3/100\n",
      "1074/1074 [==============================] - 4s 4ms/step - loss: 0.6331 - auc: 0.6597\n",
      "Epoch 4/100\n",
      "1074/1074 [==============================] - 5s 5ms/step - loss: 0.6249 - auc: 0.6665\n",
      "Epoch 5/100\n",
      "1074/1074 [==============================] - 3s 3ms/step - loss: 0.6219 - auc: 0.6699\n",
      "Epoch 6/100\n",
      "1074/1074 [==============================] - 4s 3ms/step - loss: 0.6200 - auc: 0.6722\n",
      "Epoch 7/100\n",
      "1074/1074 [==============================] - 4s 4ms/step - loss: 0.6182 - auc: 0.6752\n",
      "Epoch 8/100\n",
      "1074/1074 [==============================] - 3s 3ms/step - loss: 0.6172 - auc: 0.6768\n",
      "Epoch 9/100\n",
      "1074/1074 [==============================] - 3s 3ms/step - loss: 0.6165 - auc: 0.6772\n",
      "Epoch 10/100\n",
      "1074/1074 [==============================] - 3s 3ms/step - loss: 0.6158 - auc: 0.6781\n",
      "Epoch 11/100\n",
      "1074/1074 [==============================] - 3s 3ms/step - loss: 0.6153 - auc: 0.6789\n",
      "Epoch 12/100\n",
      "1074/1074 [==============================] - 3s 3ms/step - loss: 0.6146 - auc: 0.6800\n",
      "Epoch 13/100\n",
      "1074/1074 [==============================] - 3s 3ms/step - loss: 0.6141 - auc: 0.6806\n",
      "Epoch 14/100\n",
      "1074/1074 [==============================] - 3s 3ms/step - loss: 0.6137 - auc: 0.6814\n",
      "Epoch 15/100\n",
      "1074/1074 [==============================] - 3s 3ms/step - loss: 0.6131 - auc: 0.6825\n",
      "Epoch 16/100\n",
      "1074/1074 [==============================] - 5s 4ms/step - loss: 0.6132 - auc: 0.6823\n",
      "Epoch 17/100\n",
      "1074/1074 [==============================] - 4s 3ms/step - loss: 0.6128 - auc: 0.6829\n",
      "Epoch 18/100\n",
      "1074/1074 [==============================] - 4s 3ms/step - loss: 0.6124 - auc: 0.6833\n",
      "Epoch 19/100\n",
      "1074/1074 [==============================] - 3s 3ms/step - loss: 0.6122 - auc: 0.6830\n",
      "Epoch 20/100\n",
      "1074/1074 [==============================] - 3s 3ms/step - loss: 0.6121 - auc: 0.6834\n",
      "Epoch 21/100\n",
      "1074/1074 [==============================] - 3s 3ms/step - loss: 0.6115 - auc: 0.6843\n",
      "Epoch 22/100\n",
      "1074/1074 [==============================] - 3s 3ms/step - loss: 0.6111 - auc: 0.6856\n",
      "Epoch 23/100\n",
      "1074/1074 [==============================] - 3s 3ms/step - loss: 0.6110 - auc: 0.6850\n",
      "Epoch 24/100\n",
      "1074/1074 [==============================] - 4s 3ms/step - loss: 0.6108 - auc: 0.6863\n",
      "Epoch 25/100\n",
      "1074/1074 [==============================] - 4s 4ms/step - loss: 0.6104 - auc: 0.6861\n",
      "Epoch 26/100\n",
      "1074/1074 [==============================] - 3s 3ms/step - loss: 0.6107 - auc: 0.6860\n",
      "Epoch 27/100\n",
      "1074/1074 [==============================] - 3s 3ms/step - loss: 0.6102 - auc: 0.6871\n",
      "Epoch 28/100\n",
      "1074/1074 [==============================] - 3s 3ms/step - loss: 0.6103 - auc: 0.6864\n",
      "Epoch 29/100\n",
      "1074/1074 [==============================] - 3s 3ms/step - loss: 0.6096 - auc: 0.6872\n",
      "Epoch 30/100\n",
      "1074/1074 [==============================] - 3s 3ms/step - loss: 0.6095 - auc: 0.6878\n",
      "Epoch 31/100\n",
      "1074/1074 [==============================] - 3s 3ms/step - loss: 0.6092 - auc: 0.6882\n",
      "Epoch 32/100\n",
      "1074/1074 [==============================] - 3s 3ms/step - loss: 0.6088 - auc: 0.6890\n",
      "Epoch 33/100\n",
      "1074/1074 [==============================] - 3s 3ms/step - loss: 0.6085 - auc: 0.6890\n",
      "Epoch 34/100\n",
      "1074/1074 [==============================] - 3s 3ms/step - loss: 0.6083 - auc: 0.6896\n",
      "Epoch 35/100\n",
      "1074/1074 [==============================] - 3s 3ms/step - loss: 0.6082 - auc: 0.6905\n",
      "Epoch 36/100\n",
      "1074/1074 [==============================] - 3s 3ms/step - loss: 0.6087 - auc: 0.6890\n",
      "Epoch 37/100\n",
      "1074/1074 [==============================] - 3s 2ms/step - loss: 0.6083 - auc: 0.6894\n",
      "Epoch 38/100\n",
      "1074/1074 [==============================] - 3s 2ms/step - loss: 0.6081 - auc: 0.6903\n",
      "Epoch 39/100\n",
      "1074/1074 [==============================] - 3s 3ms/step - loss: 0.6079 - auc: 0.6906\n",
      "Epoch 40/100\n",
      "1074/1074 [==============================] - 3s 3ms/step - loss: 0.6078 - auc: 0.6905\n",
      "Epoch 41/100\n",
      "1074/1074 [==============================] - 3s 3ms/step - loss: 0.6078 - auc: 0.6905\n",
      "Epoch 42/100\n",
      "1074/1074 [==============================] - 3s 3ms/step - loss: 0.6076 - auc: 0.6913\n",
      "Epoch 43/100\n",
      "1074/1074 [==============================] - 3s 3ms/step - loss: 0.6074 - auc: 0.6907\n",
      "Epoch 44/100\n",
      "1074/1074 [==============================] - 3s 3ms/step - loss: 0.6075 - auc: 0.6909\n",
      "Epoch 45/100\n",
      "1074/1074 [==============================] - 3s 3ms/step - loss: 0.6071 - auc: 0.6911\n",
      "Epoch 46/100\n",
      "1074/1074 [==============================] - 3s 3ms/step - loss: 0.6070 - auc: 0.6916\n",
      "Epoch 47/100\n",
      "1074/1074 [==============================] - 2s 2ms/step - loss: 0.6069 - auc: 0.6913\n",
      "Epoch 48/100\n",
      "1074/1074 [==============================] - 3s 3ms/step - loss: 0.6068 - auc: 0.6914\n",
      "Epoch 49/100\n",
      "1074/1074 [==============================] - 3s 3ms/step - loss: 0.6067 - auc: 0.6916\n",
      "Epoch 50/100\n",
      "1074/1074 [==============================] - 3s 3ms/step - loss: 0.6067 - auc: 0.6927\n",
      "Epoch 51/100\n",
      "1074/1074 [==============================] - 3s 3ms/step - loss: 0.6062 - auc: 0.6932\n",
      "Epoch 52/100\n",
      "1074/1074 [==============================] - 2s 2ms/step - loss: 0.6061 - auc: 0.6929\n",
      "Epoch 53/100\n",
      "1074/1074 [==============================] - 2s 2ms/step - loss: 0.6058 - auc: 0.6939\n",
      "Epoch 54/100\n",
      "1074/1074 [==============================] - 2s 2ms/step - loss: 0.6058 - auc: 0.6935\n",
      "Epoch 55/100\n",
      "1074/1074 [==============================] - 2s 2ms/step - loss: 0.6055 - auc: 0.6943\n",
      "Epoch 56/100\n",
      "1074/1074 [==============================] - 2s 2ms/step - loss: 0.6056 - auc: 0.6941\n",
      "Epoch 57/100\n",
      "1074/1074 [==============================] - 2s 2ms/step - loss: 0.6051 - auc: 0.6952\n",
      "Epoch 58/100\n",
      "1074/1074 [==============================] - 2s 2ms/step - loss: 0.6056 - auc: 0.6941\n",
      "Epoch 59/100\n",
      "1074/1074 [==============================] - 2s 2ms/step - loss: 0.6055 - auc: 0.6938\n",
      "Epoch 60/100\n",
      "1074/1074 [==============================] - 2s 2ms/step - loss: 0.6052 - auc: 0.6944\n",
      "Epoch 61/100\n",
      "1074/1074 [==============================] - 2s 2ms/step - loss: 0.6050 - auc: 0.6947\n",
      "Epoch 62/100\n",
      " 682/1074 [==================>...........] - ETA: 0s - loss: 0.6050 - auc: 0.6939"
     ]
    }
   ],
   "source": [
    "#Training model\n",
    "model.fit(Trening_skalowany, Wynik, epochs=100, batch_size=32)"
   ]
  },
  {
   "cell_type": "code",
   "execution_count": null,
   "id": "ee9785d4",
   "metadata": {},
   "outputs": [],
   "source": [
    "#Putting test set through the model\n",
    "predictions = model.predict(Test_skalowany)"
   ]
  },
  {
   "cell_type": "code",
   "execution_count": null,
   "id": "f2277d50",
   "metadata": {},
   "outputs": [],
   "source": [
    "#Saving results to text file\n",
    "f = open(\"projekt_sgd_1.txt\", \"w\")\n",
    "for row in predictions:\n",
    "    np.savetxt(f, row, fmt='%1.10f')\n",
    "f.close()"
   ]
  },
  {
   "cell_type": "code",
   "execution_count": null,
   "id": "abd99af3",
   "metadata": {},
   "outputs": [],
   "source": [
    "#Separating set to training set and validation set\n",
    "#Prediction\n",
    "dane_train, dane_test, wynik_train, wynik_test = train_test_split(Trening_skalowany, Wynik)\n",
    "pred = model.predict(dane_test)\n",
    "roc_auc_score(wynik_test, pred)"
   ]
  },
  {
   "cell_type": "code",
   "execution_count": null,
   "id": "cc0d9673",
   "metadata": {},
   "outputs": [],
   "source": [
    "#On 10% of test set we get conformity 0.6978 on average"
   ]
  },
  {
   "cell_type": "code",
   "execution_count": null,
   "id": "9f7b6d8d",
   "metadata": {},
   "outputs": [],
   "source": []
  }
 ],
 "metadata": {
  "kernelspec": {
   "display_name": "Python 3 (ipykernel)",
   "language": "python",
   "name": "python3"
  },
  "language_info": {
   "codemirror_mode": {
    "name": "ipython",
    "version": 3
   },
   "file_extension": ".py",
   "mimetype": "text/x-python",
   "name": "python",
   "nbconvert_exporter": "python",
   "pygments_lexer": "ipython3",
   "version": "3.9.13"
  }
 },
 "nbformat": 4,
 "nbformat_minor": 5
}
