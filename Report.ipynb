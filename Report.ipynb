{
 "cells": [
  {
   "cell_type": "code",
   "execution_count": 1,
   "id": "81913b8a",
   "metadata": {},
   "outputs": [],
   "source": [
    "#Downloading necessary libraries\n",
    "import numpy as np\n",
    "import pandas as pd\n",
    "import sklearn\n",
    "from sklearn.preprocessing import MinMaxScaler\n",
    "import tensorflow as tf\n",
    "from tensorflow.keras.models import Sequential\n",
    "from tensorflow.keras.layers import Dense\n",
    "from sklearn.model_selection import train_test_split\n",
    "from sklearn import metrics\n",
    "from sklearn.metrics import roc_auc_score"
   ]
  },
  {
   "cell_type": "code",
   "execution_count": 2,
   "id": "8a4d5645",
   "metadata": {
    "scrolled": true
   },
   "outputs": [],
   "source": [
    "#Loading training data from file\n",
    "Trening = pd.read_csv(\"sc_project_training_data.csv\")"
   ]
  },
  {
   "cell_type": "code",
   "execution_count": 3,
   "id": "20fad70b",
   "metadata": {},
   "outputs": [],
   "source": [
    "#Loading test data from file\n",
    "Test = pd.read_csv(\"sc_project_test_data.csv\")"
   ]
  },
  {
   "cell_type": "code",
   "execution_count": 4,
   "id": "6698fee1",
   "metadata": {},
   "outputs": [],
   "source": [
    "#Swaping data from column GameType to numeric\n",
    "#New data - integers from 1 to 6 inclusive - saving in new column\n",
    "df = pd.concat([Trening['GameType'], Test['GameType']])\n",
    "layer = tf.keras.layers.StringLookup()\n",
    "layer.adapt(df)\n",
    "Trening['TypeofGame'] = layer(Trening['GameType'])\n",
    "Test['TypeofGame'] = layer(Test['GameType'])"
   ]
  },
  {
   "cell_type": "code",
   "execution_count": 5,
   "id": "4ecedc15",
   "metadata": {},
   "outputs": [],
   "source": [
    "#Swaping data from column Winner to numeric\n",
    "Trening['Wynik'] = 0\n",
    "Trening.loc[Trening['Winner'] == 'A', 'Wynik'] = 1"
   ]
  },
  {
   "cell_type": "code",
   "execution_count": 6,
   "id": "011f2289",
   "metadata": {},
   "outputs": [],
   "source": [
    "#Deleting duplicated data and separating results from parameters in training set\n",
    "#Receiving 3 sets, all with numeric data\n",
    "#First one with training parameters\n",
    "#Second one with information who won for training parameters\n",
    "#Third one with test parameters\n",
    "Test = Test.drop(columns = ['GameType'])\n",
    "Wynik = Trening['Wynik']\n",
    "Trening = Trening.drop(columns = ['GameID', 'Winner', 'GameType', 'Wynik'])"
   ]
  },
  {
   "cell_type": "code",
   "execution_count": 7,
   "id": "980ae7b4",
   "metadata": {},
   "outputs": [],
   "source": [
    "#Normalizing data\n",
    "scaler = MinMaxScaler()\n",
    "Trening_skalowany = scaler.fit_transform(Trening)\n",
    "Test_skalowany = scaler.fit_transform(Test)"
   ]
  },
  {
   "cell_type": "code",
   "execution_count": 8,
   "id": "8bbde950",
   "metadata": {},
   "outputs": [],
   "source": [
    "#Defining model\n",
    "model = Sequential()\n",
    "model.add(Dense(32, input_shape=(158,), activation='relu'))\n",
    "model.add(Dense(32, activation='relu'))\n",
    "model.add(Dense(1, activation='sigmoid'))\n",
    "\n",
    "#The model is neural network made up of input layer, two hidden layers and output layer\n",
    "#Size of input layer is 158 - it's the number of parameters, which result depends on\n",
    "#Both hidden layers are the same - they are made up of 32 neuron each\n",
    "#The function of activation is relu\n",
    "#In the end there is input layer with function of activation sigmoid"
   ]
  },
  {
   "cell_type": "code",
   "execution_count": 9,
   "id": "5ff2741c",
   "metadata": {},
   "outputs": [],
   "source": [
    "#Compiling model\n",
    "#As the function of loss we take binary crossentropy\n",
    "#Optimizing with stochastic gradient descent\n",
    "model.compile(loss='binary_crossentropy', optimizer='sgd', metrics=['AUC'])"
   ]
  },
  {
   "cell_type": "code",
   "execution_count": 10,
   "id": "34af0808",
   "metadata": {},
   "outputs": [
    {
     "name": "stdout",
     "output_type": "stream",
     "text": [
      "Epoch 1/100\n",
      "1074/1074 [==============================] - 3s 2ms/step - loss: 0.6659 - auc: 0.5732\n",
      "Epoch 2/100\n",
      "1074/1074 [==============================] - 2s 2ms/step - loss: 0.6514 - auc: 0.6384\n",
      "Epoch 3/100\n",
      "1074/1074 [==============================] - 2s 2ms/step - loss: 0.6360 - auc: 0.6543\n",
      "Epoch 4/100\n",
      "1074/1074 [==============================] - 3s 2ms/step - loss: 0.6269 - auc: 0.6631\n",
      "Epoch 5/100\n",
      "1074/1074 [==============================] - 2s 2ms/step - loss: 0.6235 - auc: 0.6681\n",
      "Epoch 6/100\n",
      "1074/1074 [==============================] - 2s 2ms/step - loss: 0.6211 - auc: 0.6713\n",
      "Epoch 7/100\n",
      "1074/1074 [==============================] - 2s 2ms/step - loss: 0.6193 - auc: 0.6744\n",
      "Epoch 8/100\n",
      "1074/1074 [==============================] - 2s 2ms/step - loss: 0.6181 - auc: 0.6757\n",
      "Epoch 9/100\n",
      "1074/1074 [==============================] - 2s 2ms/step - loss: 0.6173 - auc: 0.6769\n",
      "Epoch 10/100\n",
      "1074/1074 [==============================] - 2s 2ms/step - loss: 0.6167 - auc: 0.6779\n",
      "Epoch 11/100\n",
      "1074/1074 [==============================] - 2s 2ms/step - loss: 0.6162 - auc: 0.6778\n",
      "Epoch 12/100\n",
      "1074/1074 [==============================] - 2s 2ms/step - loss: 0.6151 - auc: 0.6804\n",
      "Epoch 13/100\n",
      "1074/1074 [==============================] - 2s 2ms/step - loss: 0.6147 - auc: 0.6805\n",
      "Epoch 14/100\n",
      "1074/1074 [==============================] - 2s 2ms/step - loss: 0.6140 - auc: 0.6810\n",
      "Epoch 15/100\n",
      "1074/1074 [==============================] - 2s 2ms/step - loss: 0.6136 - auc: 0.6816\n",
      "Epoch 16/100\n",
      "1074/1074 [==============================] - 2s 2ms/step - loss: 0.6134 - auc: 0.6824\n",
      "Epoch 17/100\n",
      "1074/1074 [==============================] - 2s 2ms/step - loss: 0.6126 - auc: 0.6835\n",
      "Epoch 18/100\n",
      "1074/1074 [==============================] - 2s 2ms/step - loss: 0.6126 - auc: 0.6830\n",
      "Epoch 19/100\n",
      "1074/1074 [==============================] - 2s 2ms/step - loss: 0.6118 - auc: 0.6843\n",
      "Epoch 20/100\n",
      "1074/1074 [==============================] - 2s 2ms/step - loss: 0.6116 - auc: 0.6849\n",
      "Epoch 21/100\n",
      "1074/1074 [==============================] - 2s 2ms/step - loss: 0.6109 - auc: 0.6858\n",
      "Epoch 22/100\n",
      "1074/1074 [==============================] - 2s 2ms/step - loss: 0.6108 - auc: 0.6861\n",
      "Epoch 23/100\n",
      "1074/1074 [==============================] - 2s 2ms/step - loss: 0.6106 - auc: 0.6851\n",
      "Epoch 24/100\n",
      "1074/1074 [==============================] - 2s 2ms/step - loss: 0.6099 - auc: 0.6872\n",
      "Epoch 25/100\n",
      "1074/1074 [==============================] - 2s 2ms/step - loss: 0.6101 - auc: 0.6858\n",
      "Epoch 26/100\n",
      "1074/1074 [==============================] - 2s 2ms/step - loss: 0.6099 - auc: 0.6876\n",
      "Epoch 27/100\n",
      "1074/1074 [==============================] - 2s 2ms/step - loss: 0.6097 - auc: 0.6875\n",
      "Epoch 28/100\n",
      "1074/1074 [==============================] - 2s 2ms/step - loss: 0.6095 - auc: 0.6873\n",
      "Epoch 29/100\n",
      "1074/1074 [==============================] - 2s 2ms/step - loss: 0.6089 - auc: 0.6886\n",
      "Epoch 30/100\n",
      "1074/1074 [==============================] - 2s 2ms/step - loss: 0.6091 - auc: 0.6885\n",
      "Epoch 31/100\n",
      "1074/1074 [==============================] - 2s 2ms/step - loss: 0.6092 - auc: 0.6878\n",
      "Epoch 32/100\n",
      "1074/1074 [==============================] - 2s 2ms/step - loss: 0.6087 - auc: 0.6891\n",
      "Epoch 33/100\n",
      "1074/1074 [==============================] - 2s 2ms/step - loss: 0.6089 - auc: 0.6885\n",
      "Epoch 34/100\n",
      "1074/1074 [==============================] - 2s 2ms/step - loss: 0.6082 - auc: 0.6897\n",
      "Epoch 35/100\n",
      "1074/1074 [==============================] - 2s 2ms/step - loss: 0.6085 - auc: 0.6890\n",
      "Epoch 36/100\n",
      "1074/1074 [==============================] - 2s 2ms/step - loss: 0.6083 - auc: 0.6893\n",
      "Epoch 37/100\n",
      "1074/1074 [==============================] - 2s 2ms/step - loss: 0.6082 - auc: 0.6893\n",
      "Epoch 38/100\n",
      "1074/1074 [==============================] - 2s 2ms/step - loss: 0.6080 - auc: 0.6900\n",
      "Epoch 39/100\n",
      "1074/1074 [==============================] - 2s 2ms/step - loss: 0.6079 - auc: 0.6895\n",
      "Epoch 40/100\n",
      "1074/1074 [==============================] - 2s 2ms/step - loss: 0.6073 - auc: 0.6902\n",
      "Epoch 41/100\n",
      "1074/1074 [==============================] - 2s 2ms/step - loss: 0.6075 - auc: 0.6908\n",
      "Epoch 42/100\n",
      "1074/1074 [==============================] - 2s 2ms/step - loss: 0.6071 - auc: 0.6908\n",
      "Epoch 43/100\n",
      "1074/1074 [==============================] - 2s 2ms/step - loss: 0.6068 - auc: 0.6916\n",
      "Epoch 44/100\n",
      "1074/1074 [==============================] - 2s 2ms/step - loss: 0.6070 - auc: 0.6913\n",
      "Epoch 45/100\n",
      "1074/1074 [==============================] - 2s 2ms/step - loss: 0.6071 - auc: 0.6908\n",
      "Epoch 46/100\n",
      "1074/1074 [==============================] - 2s 2ms/step - loss: 0.6065 - auc: 0.6924\n",
      "Epoch 47/100\n",
      "1074/1074 [==============================] - 2s 2ms/step - loss: 0.6068 - auc: 0.6910\n",
      "Epoch 48/100\n",
      "1074/1074 [==============================] - 2s 2ms/step - loss: 0.6065 - auc: 0.6919\n",
      "Epoch 49/100\n",
      "1074/1074 [==============================] - 2s 2ms/step - loss: 0.6065 - auc: 0.6918\n",
      "Epoch 50/100\n",
      "1074/1074 [==============================] - 2s 2ms/step - loss: 0.6063 - auc: 0.6915\n",
      "Epoch 51/100\n",
      "1074/1074 [==============================] - 2s 2ms/step - loss: 0.6064 - auc: 0.6914\n",
      "Epoch 52/100\n",
      "1074/1074 [==============================] - 2s 2ms/step - loss: 0.6061 - auc: 0.6926\n",
      "Epoch 53/100\n",
      "1074/1074 [==============================] - 2s 2ms/step - loss: 0.6062 - auc: 0.6924\n",
      "Epoch 54/100\n",
      "1074/1074 [==============================] - 2s 2ms/step - loss: 0.6058 - auc: 0.6935\n",
      "Epoch 55/100\n",
      "1074/1074 [==============================] - 2s 2ms/step - loss: 0.6059 - auc: 0.6929\n",
      "Epoch 56/100\n",
      "1074/1074 [==============================] - 2s 2ms/step - loss: 0.6054 - auc: 0.6937\n",
      "Epoch 57/100\n",
      "1074/1074 [==============================] - 2s 2ms/step - loss: 0.6058 - auc: 0.6923\n",
      "Epoch 58/100\n",
      "1074/1074 [==============================] - 2s 2ms/step - loss: 0.6056 - auc: 0.6928\n",
      "Epoch 59/100\n",
      "1074/1074 [==============================] - 2s 2ms/step - loss: 0.6055 - auc: 0.6932\n",
      "Epoch 60/100\n",
      "1074/1074 [==============================] - 2s 2ms/step - loss: 0.6049 - auc: 0.6952\n",
      "Epoch 61/100\n",
      "1074/1074 [==============================] - 2s 2ms/step - loss: 0.6055 - auc: 0.6928\n",
      "Epoch 62/100\n",
      "1074/1074 [==============================] - 2s 2ms/step - loss: 0.6051 - auc: 0.6941\n",
      "Epoch 63/100\n",
      "1074/1074 [==============================] - 2s 2ms/step - loss: 0.6052 - auc: 0.6936\n",
      "Epoch 64/100\n",
      "1074/1074 [==============================] - 2s 2ms/step - loss: 0.6051 - auc: 0.6936\n",
      "Epoch 65/100\n",
      "1074/1074 [==============================] - 2s 2ms/step - loss: 0.6051 - auc: 0.6941\n",
      "Epoch 66/100\n",
      "1074/1074 [==============================] - 2s 2ms/step - loss: 0.6050 - auc: 0.6942\n",
      "Epoch 67/100\n",
      "1074/1074 [==============================] - 2s 2ms/step - loss: 0.6047 - auc: 0.6947\n",
      "Epoch 68/100\n",
      "1074/1074 [==============================] - 2s 2ms/step - loss: 0.6045 - auc: 0.6955\n",
      "Epoch 69/100\n",
      "1074/1074 [==============================] - 2s 2ms/step - loss: 0.6047 - auc: 0.6952\n",
      "Epoch 70/100\n",
      "1074/1074 [==============================] - 2s 2ms/step - loss: 0.6047 - auc: 0.6945\n",
      "Epoch 71/100\n",
      "1074/1074 [==============================] - 2s 2ms/step - loss: 0.6042 - auc: 0.6960\n",
      "Epoch 72/100\n",
      "1074/1074 [==============================] - 2s 2ms/step - loss: 0.6048 - auc: 0.6941\n",
      "Epoch 73/100\n",
      "1074/1074 [==============================] - 2s 2ms/step - loss: 0.6042 - auc: 0.6954\n",
      "Epoch 74/100\n",
      "1074/1074 [==============================] - 2s 2ms/step - loss: 0.6045 - auc: 0.6947\n",
      "Epoch 75/100\n",
      "1074/1074 [==============================] - 2s 2ms/step - loss: 0.6040 - auc: 0.6954\n",
      "Epoch 76/100\n",
      "1074/1074 [==============================] - 2s 2ms/step - loss: 0.6042 - auc: 0.6952\n",
      "Epoch 77/100\n",
      "1074/1074 [==============================] - 2s 2ms/step - loss: 0.6038 - auc: 0.6964\n",
      "Epoch 78/100\n",
      "1074/1074 [==============================] - 2s 2ms/step - loss: 0.6040 - auc: 0.6953\n",
      "Epoch 79/100\n",
      "1074/1074 [==============================] - 2s 2ms/step - loss: 0.6040 - auc: 0.6953\n",
      "Epoch 80/100\n",
      "1074/1074 [==============================] - 2s 2ms/step - loss: 0.6037 - auc: 0.6964\n",
      "Epoch 81/100\n",
      "1074/1074 [==============================] - 2s 2ms/step - loss: 0.6041 - auc: 0.6957\n",
      "Epoch 82/100\n",
      "1074/1074 [==============================] - 2s 2ms/step - loss: 0.6034 - auc: 0.6970\n",
      "Epoch 83/100\n",
      "1074/1074 [==============================] - 2s 2ms/step - loss: 0.6031 - auc: 0.6970\n",
      "Epoch 84/100\n",
      "1074/1074 [==============================] - 2s 2ms/step - loss: 0.6036 - auc: 0.6962\n",
      "Epoch 85/100\n",
      "1074/1074 [==============================] - 2s 2ms/step - loss: 0.6035 - auc: 0.6968\n",
      "Epoch 86/100\n",
      "1074/1074 [==============================] - 2s 2ms/step - loss: 0.6033 - auc: 0.6965\n",
      "Epoch 87/100\n",
      "1074/1074 [==============================] - 2s 2ms/step - loss: 0.6033 - auc: 0.6969\n",
      "Epoch 88/100\n",
      "1074/1074 [==============================] - 2s 2ms/step - loss: 0.6032 - auc: 0.6972\n",
      "Epoch 89/100\n",
      "1074/1074 [==============================] - 2s 2ms/step - loss: 0.6031 - auc: 0.6971\n",
      "Epoch 90/100\n",
      "1074/1074 [==============================] - 2s 2ms/step - loss: 0.6028 - auc: 0.6978\n",
      "Epoch 91/100\n",
      "1074/1074 [==============================] - 2s 2ms/step - loss: 0.6027 - auc: 0.6976\n",
      "Epoch 92/100\n",
      "1074/1074 [==============================] - 2s 2ms/step - loss: 0.6031 - auc: 0.6967\n",
      "Epoch 93/100\n",
      "1074/1074 [==============================] - 2s 2ms/step - loss: 0.6029 - auc: 0.6975\n",
      "Epoch 94/100\n",
      "1074/1074 [==============================] - 2s 2ms/step - loss: 0.6025 - auc: 0.6973\n",
      "Epoch 95/100\n",
      "1074/1074 [==============================] - 2s 2ms/step - loss: 0.6028 - auc: 0.6973\n",
      "Epoch 96/100\n",
      "1074/1074 [==============================] - 2s 2ms/step - loss: 0.6027 - auc: 0.6981\n",
      "Epoch 97/100\n",
      "1074/1074 [==============================] - 2s 2ms/step - loss: 0.6027 - auc: 0.6979\n",
      "Epoch 98/100\n",
      "1074/1074 [==============================] - 2s 1ms/step - loss: 0.6029 - auc: 0.6971\n",
      "Epoch 99/100\n",
      "1074/1074 [==============================] - 2s 2ms/step - loss: 0.6027 - auc: 0.6974\n",
      "Epoch 100/100\n",
      "1074/1074 [==============================] - 2s 2ms/step - loss: 0.6024 - auc: 0.6982\n"
     ]
    },
    {
     "data": {
      "text/plain": [
       "<keras.callbacks.History at 0x20f9fa48940>"
      ]
     },
     "execution_count": 10,
     "metadata": {},
     "output_type": "execute_result"
    }
   ],
   "source": [
    "#Training model\n",
    "model.fit(Trening_skalowany, Wynik, epochs=100, batch_size=32)"
   ]
  },
  {
   "cell_type": "code",
   "execution_count": 11,
   "id": "ee9785d4",
   "metadata": {},
   "outputs": [
    {
     "name": "stdout",
     "output_type": "stream",
     "text": [
      "336/336 [==============================] - 1s 993us/step\n"
     ]
    }
   ],
   "source": [
    "#Putting test set through the model\n",
    "predictions = model.predict(Test_skalowany)"
   ]
  },
  {
   "cell_type": "code",
   "execution_count": 12,
   "id": "f2277d50",
   "metadata": {},
   "outputs": [],
   "source": [
    "#Saving results to text file\n",
    "f = open(\"projekt_sgd_1.txt\", \"w\")\n",
    "for row in predictions:\n",
    "    np.savetxt(f, row, fmt='%1.10f')\n",
    "f.close()"
   ]
  },
  {
   "cell_type": "code",
   "execution_count": 13,
   "id": "abd99af3",
   "metadata": {},
   "outputs": [
    {
     "name": "stdout",
     "output_type": "stream",
     "text": [
      "269/269 [==============================] - 0s 1ms/step\n"
     ]
    },
    {
     "data": {
      "text/plain": [
       "0.7050425901891214"
      ]
     },
     "execution_count": 13,
     "metadata": {},
     "output_type": "execute_result"
    }
   ],
   "source": [
    "#Separating set to training set and validation set\n",
    "#Prediction\n",
    "dane_train, dane_test, wynik_train, wynik_test = train_test_split(Trening_skalowany, Wynik)\n",
    "pred = model.predict(dane_test)\n",
    "roc_auc_score(wynik_test, pred)"
   ]
  },
  {
   "cell_type": "code",
   "execution_count": 13,
   "id": "cc0d9673",
   "metadata": {},
   "outputs": [],
   "source": [
    "#On 10% of test set we get conformity 0.6978 on average"
   ]
  }
 ],
 "metadata": {
  "kernelspec": {
   "display_name": "Python 3 (ipykernel)",
   "language": "python",
   "name": "python3"
  },
  "language_info": {
   "codemirror_mode": {
    "name": "ipython",
    "version": 3
   },
   "file_extension": ".py",
   "mimetype": "text/x-python",
   "name": "python",
   "nbconvert_exporter": "python",
   "pygments_lexer": "ipython3",
   "version": "3.9.13"
  }
 },
 "nbformat": 4,
 "nbformat_minor": 5
}
